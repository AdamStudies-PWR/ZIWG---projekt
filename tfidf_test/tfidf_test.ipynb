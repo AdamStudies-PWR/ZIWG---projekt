{
 "cells": [
  {
   "cell_type": "code",
   "execution_count": 1,
   "id": "33936577",
   "metadata": {},
   "outputs": [
    {
     "name": "stderr",
     "output_type": "stream",
     "text": [
      "C:\\Users\\leoni\\Desktop\\pliki\\python\\nlp\\venv\\lib\\site-packages\\tqdm\\auto.py:22: TqdmWarning: IProgress not found. Please update jupyter and ipywidgets. See https://ipywidgets.readthedocs.io/en/stable/user_install.html\n",
      "  from .autonotebook import tqdm as notebook_tqdm\n"
     ]
    }
   ],
   "source": [
    "import pandas as pd\n",
    "import numpy as np\n",
    "from sklearn.feature_extraction.text import TfidfVectorizer\n",
    "import umap\n",
    "import matplotlib.pyplot as plt"
   ]
  },
  {
   "cell_type": "code",
   "execution_count": 2,
   "id": "2e888822",
   "metadata": {},
   "outputs": [],
   "source": [
    "docs = [\"dwa plus dwa to cztery\",\n",
    "        \"dwa minus dwa to zero\",\n",
    "        \"osiem minus cztery to cztery\",\n",
    "        \"o nie do wiary pan hilary zgubil swoje okulary\"]"
   ]
  },
  {
   "cell_type": "code",
   "execution_count": 3,
   "id": "93a9b172",
   "metadata": {},
   "outputs": [
    {
     "name": "stderr",
     "output_type": "stream",
     "text": [
      "C:\\Users\\leoni\\Desktop\\pliki\\python\\nlp\\venv\\lib\\site-packages\\sklearn\\utils\\deprecation.py:87: FutureWarning: Function get_feature_names is deprecated; get_feature_names is deprecated in 1.0 and will be removed in 1.2. Please use get_feature_names_out instead.\n",
      "  warnings.warn(msg, category=FutureWarning)\n"
     ]
    }
   ],
   "source": [
    "vectorizer = TfidfVectorizer()\n",
    "vect = vectorizer.fit(docs)\n",
    "result = vectorizer.transform(docs)\n",
    "df = pd.DataFrame(result.toarray(), columns = vect.get_feature_names())"
   ]
  },
  {
   "cell_type": "code",
   "execution_count": 4,
   "id": "b26ef074",
   "metadata": {},
   "outputs": [
    {
     "name": "stdout",
     "output_type": "stream",
     "text": [
      "     cztery        do       dwa    hilary     minus       nie   okulary  \\\n",
      "0  0.371027  0.000000  0.742055  0.000000  0.000000  0.000000  0.000000   \n",
      "1  0.000000  0.000000  0.742055  0.000000  0.371027  0.000000  0.000000   \n",
      "2  0.742055  0.000000  0.000000  0.000000  0.371027  0.000000  0.000000   \n",
      "3  0.000000  0.353553  0.000000  0.353553  0.000000  0.353553  0.353553   \n",
      "\n",
      "      osiem       pan      plus     swoje        to     wiary      zero  \\\n",
      "0  0.000000  0.000000  0.470601  0.000000  0.300379  0.000000  0.000000   \n",
      "1  0.000000  0.000000  0.000000  0.000000  0.300379  0.000000  0.470601   \n",
      "2  0.470601  0.000000  0.000000  0.000000  0.300379  0.000000  0.000000   \n",
      "3  0.000000  0.353553  0.000000  0.353553  0.000000  0.353553  0.000000   \n",
      "\n",
      "     zgubil  \n",
      "0  0.000000  \n",
      "1  0.000000  \n",
      "2  0.000000  \n",
      "3  0.353553  \n"
     ]
    }
   ],
   "source": [
    "print(df)"
   ]
  },
  {
   "cell_type": "code",
   "execution_count": 5,
   "id": "4f7bbfbd",
   "metadata": {},
   "outputs": [],
   "source": [
    "reducer = umap.UMAP()\n",
    "embedding = umap.UMAP(n_neighbors=2,\n",
    "                      min_dist=0.3,\n",
    "                      metric='correlation').fit_transform(result.toarray())"
   ]
  },
  {
   "cell_type": "code",
   "execution_count": 6,
   "id": "28f2a8b8",
   "metadata": {
    "scrolled": true
   },
   "outputs": [
    {
     "name": "stdout",
     "output_type": "stream",
     "text": [
      "[[17.193901  17.361273 ]\n",
      " [11.53636   15.702849 ]\n",
      " [16.407715  16.367123 ]\n",
      " [15.9869795 17.733398 ]]\n",
      "[17.193901, 11.53636, 16.407715, 15.9869795]\n"
     ]
    }
   ],
   "source": [
    "print(embedding)\n",
    "print([element[0] for element in embedding])"
   ]
  },
  {
   "cell_type": "code",
   "execution_count": 7,
   "id": "5ce8548a",
   "metadata": {},
   "outputs": [
    {
     "data": {
      "image/png": "[encoded data removed]",
      "text/plain": [
       "<Figure size 432x288 with 1 Axes>"
      ]
     },
     "metadata": {
      "needs_background": "light"
     },
     "output_type": "display_data"
    }
   ],
   "source": [
    "x = [element[0] for element in embedding]\n",
    "y = [element[1] for element in embedding]\n",
    "plt.plot(x, y, 'ro')\n",
    "scale = 2.0\n",
    "axis = np.array([(min(x) - max(x)) / 2 , (max(x) - min(x)) / 2, (min(y) - max(y)) / 2, (max(y) - min(y)) / 2])\n",
    "axis *= scale;\n",
    "axis += np.array([(max(x) + min(x)) / 2 , (max(x) + min(x)) / 2, (max(y) + min(y)) / 2, (max(y) + min(y)) / 2])\n",
    "plt.axis(axis)\n",
    "plt.show()"
   ]
  },
  {
   "cell_type": "code",
   "execution_count": null,
   "id": "443ea6e3",
   "metadata": {},
   "outputs": [],
   "source": []
  },
  {
   "cell_type": "code",
   "execution_count": null,
   "id": "5f816702",
   "metadata": {},
   "outputs": [],
   "source": []
  }
 ],
 "metadata": {
  "kernelspec": {
   "display_name": "Python 3 (ipykernel)",
   "language": "python",
   "name": "python3"
  },
  "language_info": {
   "codemirror_mode": {
    "name": "ipython",
    "version": 3
   },
   "file_extension": ".py",
   "mimetype": "text/x-python",
   "name": "python",
   "nbconvert_exporter": "python",
   "pygments_lexer": "ipython3",
   "version": "3.10.4"
  }
 },
 "nbformat": 4,
 "nbformat_minor": 5
}
